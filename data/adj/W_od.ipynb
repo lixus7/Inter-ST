{
 "cells": [
  {
   "cell_type": "code",
   "execution_count": null,
   "metadata": {
    "ExecuteTime": {
     "end_time": "2021-08-03T04:21:42.822810Z",
     "start_time": "2021-08-03T04:17:20.395850Z"
    },
    "code_folding": [
     13
    ]
   },
   "outputs": [],
   "source": [
    "import datetime\n",
    "import math\n",
    "import pandas as pd\n",
    "import matplotlib.pyplot as plt\n",
    "import numpy as np\n",
    "get_ipython().set_next_input('import datetime');get_ipython().run_line_magic('pinfo', 'datetime')\n",
    "from chinese_calendar import is_workday, is_holiday\n",
    "#读取picke文件\n",
    "import pickle\n",
    "\n",
    "def stationID(x):\n",
    "    new_dict = {v : k for k, v in station_dict.items()}\n",
    "    return new_dict[x]\n",
    "station_dict = {\n",
    "    0 : '湘湖',\n",
    "    1 : '滨康路',\n",
    "    2 : '西兴',\n",
    "    3 : '滨和路',\n",
    "    4 : '江陵路',\n",
    "    5 : '近江',\n",
    "    6 : '婺江路',\n",
    "    7 : '城站',\n",
    "    8 : '定安路',\n",
    "    9 : '龙翔桥',\n",
    "    10 : '凤起路',\n",
    "    11 : '武林广场',\n",
    "    12 : '西湖文化广场',\n",
    "    13 : '打铁关',\n",
    "    14 : '闸弄口',\n",
    "    15 : '火车东站',\n",
    "    16 : '彭埠',\n",
    "    17 : '七堡',\n",
    "    18 : '九和路',\n",
    "    19 : '九堡',\n",
    "    20 : '客运中心',\n",
    "    21 : '下沙西',\n",
    "    22 : '金沙湖',\n",
    "    23 : '高沙路',\n",
    "    24 : '文泽路',\n",
    "    25 : '文海南路',\n",
    "    26 : '云水',\n",
    "    27 : '下沙江滨',\n",
    "    28 : '乔司南',\n",
    "    29 : '乔司',\n",
    "    30 : '翁梅',\n",
    "    31 : '余杭高铁站',\n",
    "    32 : '南苑',\n",
    "    33 : '临平',\n",
    "    34 : '朝阳',\n",
    "    35 : '曹家桥',\n",
    "    36 : '潘水',\n",
    "    37 : '人民路',\n",
    "    38 : '杭发厂',\n",
    "    39 : '人民广场',\n",
    "    40 : '建设一路',\n",
    "    41 : '建设三路',\n",
    "    42 : '振宁路',\n",
    "    43 : '飞虹路',\n",
    "    44 : '盈丰路',\n",
    "    45 : '钱江世纪城',\n",
    "    46 : '钱江路',\n",
    "    47 : '庆春广场',\n",
    "    48 : '庆菱路',\n",
    "    49 : '建国北路',\n",
    "    50 : '中河北路',\n",
    "    51 : '凤起路',\n",
    "    52 : '武林门',\n",
    "    53 : '沈塘桥',\n",
    "    54 : '下宁桥',\n",
    "    55 : '学院路',\n",
    "    56 : '古翠路',\n",
    "    57 : '丰潭路',\n",
    "    58 : '文新',\n",
    "    59 : '三坝',\n",
    "    60 : '虾龙圩',\n",
    "    61 : '三墩',\n",
    "    62 : '墩祥街',\n",
    "    63 : '金家渡',\n",
    "    64 : '白洋',\n",
    "    65 : '杜甫村',\n",
    "    66 : '良渚',\n",
    "    67 : '浦沿',\n",
    "    68 : '杨家墩',\n",
    "    69 : '中医药大学',\n",
    "    70 : '联庄',\n",
    "    71 : '水澄桥',\n",
    "    72 : '复兴路',\n",
    "    73 : '南星桥',\n",
    "    74 : '甬江路',\n",
    "    75 : '城星路',\n",
    "    76 : '市民中心',\n",
    "    77 : '江锦路',\n",
    "    78 : '景芳',\n",
    "    79 : '新塘',\n",
    "    80 : '新风'\n",
    "}\n",
    "\n",
    "with open('../odflow_1s.pk', 'rb') as file:   #用with的优点是可以不用写关闭文件操作\n",
    "    odflow_1s = pickle.load(file)"
   ]
  },
  {
   "cell_type": "code",
   "execution_count": null,
   "metadata": {
    "ExecuteTime": {
     "end_time": "2021-08-03T04:22:21.587720Z",
     "start_time": "2021-08-03T04:22:21.101413Z"
    }
   },
   "outputs": [],
   "source": [
    "odflow_1s.keys()"
   ]
  },
  {
   "cell_type": "code",
   "execution_count": null,
   "metadata": {
    "ExecuteTime": {
     "start_time": "2021-08-03T03:52:00.708Z"
    }
   },
   "outputs": [],
   "source": [
    "len(list(odflow_1s.keys()))"
   ]
  },
  {
   "cell_type": "code",
   "execution_count": null,
   "metadata": {
    "ExecuteTime": {
     "end_time": "2021-06-30T11:21:07.253522Z",
     "start_time": "2021-06-30T11:20:52.856081Z"
    },
    "scrolled": true
   },
   "outputs": [],
   "source": [
    "odflow_1m"
   ]
  },
  {
   "cell_type": "code",
   "execution_count": null,
   "metadata": {
    "ExecuteTime": {
     "end_time": "2021-08-03T04:40:20.934964Z",
     "start_time": "2021-08-03T04:40:18.527762Z"
    },
    "scrolled": true
   },
   "outputs": [],
   "source": [
    "pdates = []\n",
    "for i in range(1,26):\n",
    "    day = str(i).zfill(2)\n",
    "    start = '2019-01-'+day+' 06:00:00'\n",
    "    end = '2019-01-'+day+' 23:30:00'\n",
    "    pdates_temp = pd.date_range(start=start, end=end,freq='1s')\n",
    "    pdates+=pdates_temp\n",
    "pdates"
   ]
  },
  {
   "cell_type": "code",
   "execution_count": null,
   "metadata": {
    "ExecuteTime": {
     "end_time": "2021-08-03T04:42:55.613261Z",
     "start_time": "2021-08-03T04:42:34.871890Z"
    }
   },
   "outputs": [],
   "source": [
    "num_sensors = 81\n",
    "od_adj = np.zeros((num_sensors, num_sensors), dtype=np.float32)\n",
    "od_adj[:] = 0\n",
    "for time_list in pdates:\n",
    "    if str(time_list) in list(odflow_1s.keys()):\n",
    "        for j in odflow_1s[str(time_list)].keys():\n",
    "            startid = stationID(j)\n",
    "            for k in odflow_1s[str(time_list)][j]:\n",
    "                endid = stationID(k)\n",
    "                value = odflow_1s[str(time_list)][j][k]\n",
    "                od_adj[startid,endid]+=value"
   ]
  },
  {
   "cell_type": "code",
   "execution_count": null,
   "metadata": {
    "ExecuteTime": {
     "end_time": "2021-08-03T04:39:51.978306Z",
     "start_time": "2021-08-03T04:39:33.955411Z"
    }
   },
   "outputs": [],
   "source": [
    "odflow_1s"
   ]
  },
  {
   "cell_type": "code",
   "execution_count": null,
   "metadata": {},
   "outputs": [],
   "source": []
  }
 ],
 "metadata": {
  "kernelspec": {
   "display_name": "torch1.7",
   "language": "python",
   "name": "torch1.7"
  },
  "language_info": {
   "codemirror_mode": {
    "name": "ipython",
    "version": 3
   },
   "file_extension": ".py",
   "mimetype": "text/x-python",
   "name": "python",
   "nbconvert_exporter": "python",
   "pygments_lexer": "ipython3",
   "version": "3.7.7"
  },
  "toc": {
   "base_numbering": 1,
   "nav_menu": {},
   "number_sections": true,
   "sideBar": true,
   "skip_h1_title": false,
   "title_cell": "Table of Contents",
   "title_sidebar": "Contents",
   "toc_cell": false,
   "toc_position": {},
   "toc_section_display": true,
   "toc_window_display": false
  },
  "varInspector": {
   "cols": {
    "lenName": 16,
    "lenType": 16,
    "lenVar": 40
   },
   "kernels_config": {
    "python": {
     "delete_cmd_postfix": "",
     "delete_cmd_prefix": "del ",
     "library": "var_list.py",
     "varRefreshCmd": "print(var_dic_list())"
    },
    "r": {
     "delete_cmd_postfix": ") ",
     "delete_cmd_prefix": "rm(",
     "library": "var_list.r",
     "varRefreshCmd": "cat(var_dic_list()) "
    }
   },
   "types_to_exclude": [
    "module",
    "function",
    "builtin_function_or_method",
    "instance",
    "_Feature"
   ],
   "window_display": false
  }
 },
 "nbformat": 4,
 "nbformat_minor": 4
}
